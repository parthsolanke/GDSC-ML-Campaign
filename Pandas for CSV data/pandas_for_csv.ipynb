{
 "cells": [
  {
   "cell_type": "code",
   "execution_count": 1,
   "metadata": {},
   "outputs": [
    {
     "name": "stdout",
     "output_type": "stream",
     "text": [
      "['day,temp,condition\\n', 'Monday,12,Sunny\\n', 'Tuesday,14,Rain\\n', 'Wednesday,15,Rain\\n', 'Thursday,14,Cloudy\\n', 'Friday,21,Sunny\\n', 'Saturday,22,Sunny\\n', 'Sunday,24,Sunny']\n"
     ]
    }
   ],
   "source": [
    "# reading a csv file without csv module or pandas\n",
    "with open(\"data\\weather_data.csv\") as data_file:\n",
    "    data = data_file.readlines()\n",
    "    print(data)"
   ]
  },
  {
   "cell_type": "code",
   "execution_count": 2,
   "metadata": {},
   "outputs": [
    {
     "name": "stdout",
     "output_type": "stream",
     "text": [
      "Data:\n",
      "['day', 'temp', 'condition']\n",
      "['Monday', '12', 'Sunny']\n",
      "['Tuesday', '14', 'Rain']\n",
      "['Wednesday', '15', 'Rain']\n",
      "['Thursday', '14', 'Cloudy']\n",
      "['Friday', '21', 'Sunny']\n",
      "['Saturday', '22', 'Sunny']\n",
      "['Sunday', '24', 'Sunny']\n",
      "temperature:\n",
      "[12, 14, 15, 14, 21, 22, 24]\n"
     ]
    }
   ],
   "source": [
    "# reading csv file using csv module\n",
    "import csv\n",
    "\n",
    "with open(\"data\\weather_data.csv\") as file:\n",
    "    data = csv.reader(file)\n",
    "    print(\"Data:\")\n",
    "    for row in data:\n",
    "        print(row)\n",
    "        \n",
    "# grabbing a single row from data\n",
    "with open(\"data\\weather_data.csv\") as file:\n",
    "    data = csv.reader(file)\n",
    "    temperature = []\n",
    "    for row in data:\n",
    "        if row[1] != \"temp\":\n",
    "            temperature.append(int(row[1]))\n",
    "    print(f\"temperature:\\n{temperature}\")"
   ]
  },
  {
   "cell_type": "code",
   "execution_count": 3,
   "metadata": {},
   "outputs": [
    {
     "name": "stdout",
     "output_type": "stream",
     "text": [
      "<class 'pandas.core.frame.DataFrame'>\n",
      "         day  temp condition\n",
      "0     Monday    12     Sunny\n",
      "1    Tuesday    14      Rain\n",
      "2  Wednesday    15      Rain\n",
      "3   Thursday    14    Cloudy\n",
      "4     Friday    21     Sunny\n",
      "5   Saturday    22     Sunny\n",
      "6     Sunday    24     Sunny\n"
     ]
    }
   ],
   "source": [
    "# reading csv using pandas library\n",
    "import pandas as pd\n",
    "\n",
    "data = pd.read_csv(\"data\\weather_data.csv\")\n",
    "print(type(data))\n",
    "print(data)"
   ]
  },
  {
   "cell_type": "code",
   "execution_count": 4,
   "metadata": {},
   "outputs": [
    {
     "name": "stdout",
     "output_type": "stream",
     "text": [
      "{'day': {0: 'Monday', 1: 'Tuesday', 2: 'Wednesday', 3: 'Thursday', 4: 'Friday', 5: 'Saturday', 6: 'Sunday'}, 'temp': {0: 12, 1: 14, 2: 15, 3: 14, 4: 21, 5: 22, 6: 24}, 'condition': {0: 'Sunny', 1: 'Rain', 2: 'Rain', 3: 'Cloudy', 4: 'Sunny', 5: 'Sunny', 6: 'Sunny'}}\n"
     ]
    }
   ],
   "source": [
    "# converting data to dict\n",
    "data_dict = data.to_dict()\n",
    "print(data_dict)"
   ]
  },
  {
   "cell_type": "code",
   "execution_count": 5,
   "metadata": {},
   "outputs": [
    {
     "name": "stdout",
     "output_type": "stream",
     "text": [
      "[12, 14, 15, 14, 21, 22, 24] with length: 7\n",
      "mean: 17.428571428571427\n",
      "max: 24\n"
     ]
    }
   ],
   "source": [
    "# grabbing a coloumn and arrenging data in list\n",
    "temp_list = data[\"temp\"].to_list()\n",
    "print(f\"{temp_list} with length: {len(temp_list)}\")\n",
    "\n",
    "# mean, max and mode functions in pandas\n",
    "print(f\"mean: {data['temp'].mean()}\")\n",
    "print(f\"max: {data['temp'].max()}\")"
   ]
  },
  {
   "cell_type": "code",
   "execution_count": 6,
   "metadata": {},
   "outputs": [
    {
     "name": "stdout",
     "output_type": "stream",
     "text": [
      "0     Sunny\n",
      "1      Rain\n",
      "2      Rain\n",
      "3    Cloudy\n",
      "4     Sunny\n",
      "5     Sunny\n",
      "6     Sunny\n",
      "Name: condition, dtype: object\n",
      "0     Sunny\n",
      "1      Rain\n",
      "2      Rain\n",
      "3    Cloudy\n",
      "4     Sunny\n",
      "5     Sunny\n",
      "6     Sunny\n",
      "Name: condition, dtype: object\n"
     ]
    }
   ],
   "source": [
    "# ways to get data from a specific coloumn both give same results\n",
    "print(data[\"condition\"])\n",
    "print(data.condition)"
   ]
  },
  {
   "cell_type": "code",
   "execution_count": 7,
   "metadata": {},
   "outputs": [
    {
     "name": "stdout",
     "output_type": "stream",
     "text": [
      "      day  temp condition\n",
      "0  Monday    12     Sunny\n",
      "      day  temp condition\n",
      "6  Sunday    24     Sunny\n",
      "Monday temp: 12\n"
     ]
    }
   ],
   "source": [
    "# grabbing data from a row using \"==\"\n",
    "print(data[data.day == \"Monday\"])\n",
    "print(data[data.temp == data.temp.max()])\n",
    "\n",
    "# grabbing a specific value from a row\n",
    "monday_temp = int(data[data.day == \"Monday\"].temp)\n",
    "print(f\"Monday temp: {monday_temp}\")"
   ]
  },
  {
   "cell_type": "code",
   "execution_count": 8,
   "metadata": {},
   "outputs": [
    {
     "name": "stdout",
     "output_type": "stream",
     "text": [
      "  students  scores\n",
      "0      Amy      76\n",
      "1    James      56\n",
      "2   Angela      65\n"
     ]
    }
   ],
   "source": [
    "# creating a dataframe from scratch\n",
    "data_dict = {\n",
    "    \"students\": [\"Amy\", \"James\", \"Angela\"],\n",
    "    \"scores\": [76, 56, 65]\n",
    "}\n",
    "data = pd.DataFrame(data_dict)\n",
    "print(data)\n",
    "data.to_csv(r\"data\\new_data.csv\")"
   ]
  },
  {
   "cell_type": "code",
   "execution_count": 9,
   "metadata": {},
   "outputs": [
    {
     "name": "stdout",
     "output_type": "stream",
     "text": [
      "Grey squirrels count: 2473\n",
      "Red squirrels count: 392\n",
      "Black squirrels count: 103\n"
     ]
    }
   ],
   "source": [
    "# central park squirrel data analysis\n",
    "data = pd.read_csv(\"data\\Squirrel_Data.csv\")\n",
    "\n",
    "# checking \"Primary Fur Color\" coloumn for specific values and storing the length of the quantity\n",
    "grey_squirrels_count = len(data[data[\"Primary Fur Color\"] == \"Gray\"])\n",
    "red_squirrels_count = len(data[data[\"Primary Fur Color\"] == \"Cinnamon\"])\n",
    "black_squirrels_count = len(data[data[\"Primary Fur Color\"] == \"Black\"])\n",
    "print(f\"Grey squirrels count: {grey_squirrels_count}\")\n",
    "print(f\"Red squirrels count: {red_squirrels_count}\")\n",
    "print(f\"Black squirrels count: {black_squirrels_count}\")"
   ]
  },
  {
   "cell_type": "code",
   "execution_count": 10,
   "metadata": {},
   "outputs": [
    {
     "name": "stdout",
     "output_type": "stream",
     "text": [
      "  Fur Color  Count\n",
      "0      Gray   2473\n",
      "1  Cinnamon    392\n",
      "2     Black    103\n"
     ]
    }
   ],
   "source": [
    "# storing the data into a dict\n",
    "data_dict = {\n",
    "    \"Fur Color\": [\"Gray\", \"Cinnamon\", \"Black\"],\n",
    "    \"Count\": [grey_squirrels_count, red_squirrels_count, black_squirrels_count]\n",
    "}\n",
    "\n",
    "# converting the dict to pandas dataframe\n",
    "df = pd.DataFrame(data_dict)\n",
    "df.to_csv(\"data\\squirrel_count.csv\")\n",
    "print(df)"
   ]
  }
 ],
 "metadata": {
  "kernelspec": {
   "display_name": "Python 3",
   "language": "python",
   "name": "python3"
  },
  "language_info": {
   "codemirror_mode": {
    "name": "ipython",
    "version": 3
   },
   "file_extension": ".py",
   "mimetype": "text/x-python",
   "name": "python",
   "nbconvert_exporter": "python",
   "pygments_lexer": "ipython3",
   "version": "3.9.9"
  },
  "orig_nbformat": 4
 },
 "nbformat": 4,
 "nbformat_minor": 2
}
